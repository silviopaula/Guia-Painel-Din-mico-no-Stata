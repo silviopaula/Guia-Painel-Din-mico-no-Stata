{
 "cells": [
  {
   "cell_type": "markdown",
   "id": "5e77d7e7",
   "metadata": {},
   "source": [
    "# GUIA DE PAINEL DINÂMICO SYSTEM GMM NO PYTHON/R\n",
    "\n",
    "**Autor:** Silvio da Rosa Paula                  \n",
    "**Data:** 22/07/2022                   \n",
    "[**Github**](https://github.com/silviopaula)                 \n",
    "[**Lattes**](http://lattes.cnpq.br/4981826568605006)                  \n",
    "\n",
    "## Objetivo\n",
    "\n",
    "O objetivo deste guia é introduzir a utilização de painel dinâmicos, mais especificamente ao estimador*Two-Step System GMM*, dado que ele é assintoticamente mais eficiente que os demais."
   ]
  },
  {
   "cell_type": "markdown",
   "id": "2eacccdf",
   "metadata": {
    "tags": []
   },
   "source": [
    "## O que é Painel Dinâmico?\n",
    "\n",
    "Diferentemente do painel de dados estático, no painel dinâmico a variável dependente defasada é considerada como uma variável explicativa dentro da regressão. Deste modo, é possível modelar como as realizações passadas explicam as realizações presentes e futuras. Formalmente podemos expressão os modelos de painel dinâmicos pela seguinte expressão:\n",
    "\n",
    "$$Y_{it}={\\gamma}Y_{it-1} + X'_{it}{\\beta} + {\\epsilon}_{it}$$          \n",
    "$${i=1,...,N}$$       \n",
    "$${T=2,...,T}$$       \n",
    "\n",
    "Onde $Y_{it}$ é a variável dependente da unidade *i* no período *t*; $Y_{it-1}$ é o *lag* da variável dependente $X'_{it}$ é o vetor de covariadas do modelo e ${\\epsilon}_{it}$ é o vetor de erros. \n",
    "\n",
    "Dado que a especificação comporta a defasagem da variável dependente, também, é possível estimar os  efeitos de longo prazo, utilizando o coeficiente estimado da variável de interesse $\\hat{\\beta}$ e o coeficiente da variável dependente defasada ${\\gamma}$, substituindo os valores na seguinte expressão:\n",
    "\n",
    "$$\\frac{\\hat{\\beta}}{1 - {\\gamma}}$$"
   ]
  },
  {
   "cell_type": "markdown",
   "id": "aaa21112",
   "metadata": {},
   "source": [
    "## Porque e quando utilizar estimadores de Painel Dinâmico?\n",
    "\n",
    "Usualmente, problemas de carácter macroeconômico envolvendo por exemplo, modelos de crescimento, geralmente são estimados por meio de estimadores de painel dinâmico, devido ao comportamento inercial  que advém de razões tecnológicas, institucionais e psicológicas dos agentes que não apresentam mudanças abruptas em seus hábitos após choques, de capital humano, capital físico ou insumos de trabalho. Neste contexto, podemos  considerar que existe um _delay_ na reação do produtor, de modo que a produção não é função apenas do capital físico, capital humano e outros fatores, mas, também, das condições institucionais presentes  e passadas.\n",
    "\n",
    "\n",
    "Ainda nesta perspectiva,  estimações no contexto macroeconômico apresentam obstáculos que são relacionados a endogeneidade das covariáveis utilizadas nas estimações. O nível agregado das variáveis, torna praticamente inviável encontrar uma variável instrumental W, que afeta a variável dependente Y somente por meio de X. Essa é uma das principais vantagens dos estimadores GMM, pois utilizam como instrumentos as defasagens da variável dependente e das covariadas como instrumentos.\n",
    "Diante dessas considerações, os estimadores GMM de painel dinâmico são importantes ferramentas para modelar problemas de carácter inercial, onde as realizações passadas são importantes para explicar as realizações presentes e/ou quando os regressores do modelo são endógenos e não dispomos de uma variável instrumental exógena para contornar o problema.\n",
    "\n",
    "Segundo Roodman (2006), os estimadores de painel dinâmico de Arellano-Bond (1991) e Arellano-Bover (1995) / Blundell-Bond (1998) são cada vez mais populares. Ambos são estimadores gerais projetados para situações:\n",
    "\n",
    " 1.  Poucos períodos de tempo e muitos indivíduos; \n",
    " 2. Relação linear funcional;\n",
    " 3. A variável dependente com características dinâmicas;\n",
    " 4. Variáveis explicativas que não são estritamente exógenas, e portanto, correlacionadas com suas  realizações passadas e possivelmente com atuais do erro;\n",
    " 5. Necessidade de utilização de efeitos fixos individuais;  \n",
    " 6. Heteroscedasticidade e  autocorrelação nos indivíduos, porém não entre eles.\n",
    " "
   ]
  },
  {
   "cell_type": "markdown",
   "id": "61d2b2ba",
   "metadata": {},
   "source": [
    "## Modelos de  Painel Dinâmicos\n",
    "\n",
    "Em uma breve revisão sobre  painel dinâmicos, veremos como se deu a evolução dos principais estimadores. Para modelar a dinâmica, ou seja, a persistência das series, não podemos simplesmente utilizar a variável dependente defasada dentro de uma estrutura de painel e estimar um ols pois estaremos incorporando uma variável endógena ao modelo, diante dessas considerações:\n"
   ]
  },
  {
   "cell_type": "markdown",
   "id": "4a72659a",
   "metadata": {},
   "source": [
    "**Anderson-Hsiao (1981):**\n",
    "\n",
    "Propõem eliminar o efeito fixo tirando a primeira diferença. Ademais os autores propõem utilizar as variáveis defasadas como instrumentos para as variáveis endógenas.\n",
    " \n",
    "$$Y_{it}={\\gamma}Y_{it-1} + X'_{it}{\\beta} + {\\epsilon}_{it}$$          \n",
    "\n",
    "$$(Y_{it} - Y_{it-1})={\\gamma}(Y_{it} - Y_{it-2} )+ (X'_{it} - X'_{it-1}){\\beta} + ({\\epsilon}_{it}- {\\epsilon}_{it-1})$$           \n",
    "\n",
    "$${\\Delta}Y_{it}={\\gamma}{\\Delta}Y_{it-1} + {\\Delta}X'_{it}{\\beta} + {\\Delta}{\\epsilon}_{it}$$                          \n",
    "$${i=1,...,N}$$                       \n",
    "$${T=2,...,T}$$           \n",
    "\n",
    "Como $Y_{it-2}$ ou $(Y_{it-2}-Y_{it-3})$ são correlacionados com  $(Y_{it-1}-Y_{it-2})$ mas não são correlacionados com $({\\epsilon}_{it}-{\\epsilon}_{it-1})$ eles podem ser utilizados como instrumento para $(Y_{it-1}-Y_{it-2})$. A estimação é feita pelo estimador de variáveis instrumentais, pois o modelo será exatamente identificado.\n",
    "Apesar do estimador ser mais preciso a medida que aumenta o número de defasagens, ele gera um _tradeoff_, pois ao aumentar o número de defasagens reduz-se o tamanho da amostra."
   ]
  },
  {
   "cell_type": "markdown",
   "id": "682090c7",
   "metadata": {},
   "source": [
    "**Arellano-bond (1991) - difference-GMM**  \n",
    "\n",
    "Arellano e Bond ao observarem o estimador de Anderson-Hsiao (1981), propõem utilizar mais defasagens como instrumentos por exemplo: $(Y_{it-2},Y_{it-3},...,)$  tornando o estimador mais eficiente, resultando em um modelo sobreidentificado, que pode ser estimado em dois estágios ou por Painel GMM.\n",
    "\n",
    "| T |      Defasagens       | Diferença         | Instrumentos      | Nº(iv) |\n",
    "|---|-----------------------|-------------------|-------------------|--------|\n",
    "| 3 |$$Y_{it-1},...,Y_{it-3}$$|$$Y_{it-2}-Y_{it-3}$$|    $$Y_{it-1}$$    |   1    |\n",
    "| 4 |$$Y_{it-1},...,Y_{it-4}$$|$$Y_{it-3}-Y_{it-4}$$|$$Y_{it-1},Y_{it-2}$$|   2    |\n",
    "| 5 |$$Y_{it-1},...,Y_{it-5}$$|$$Y_{it-4}-Y_{it-5}$$|$$Y_{it-1},Y_{it-2},Y_{it-3}$$|3|\n",
    "\n",
    "\n",
    "Portanto, Arellano e bond (1991) propuseram um estimador em painel GMM utilizando esse conjunto de instrumentos, ou seja, todas as defasagens como instrumentos. No entanto Arellano e Bover (1995) mostram que o estimador _Diff-GMM_ performa fracamente quando a variável dependente se aproxima de um passeio aleatório. Em outras palavras, quando as realizações passadas de Y não explicam as realizações contemporâneas de Y,  os instrumentos defasados são fracos, e o Diff-GMM é ineficiente.  \n",
    "\n",
    "Ademais, o estimador mostrou ter fracas propriedades para amostra finita (em termos de viés e imprecisão). E os valores faltantes _missings values_ acabam excluindo muitos instrumentos."
   ]
  },
  {
   "cell_type": "markdown",
   "id": "34d413cb",
   "metadata": {},
   "source": [
    "**Arellano e Bover (1995)**       \n",
    "\n",
    "Diante dos problemas do _Diff-GMM_ , Arellano e Bover (1995) propõem a utilização dos “Desvios Ortogonais”, ou seja, em vez de utilizar apenas a primeira diferença, eles propõem utilizar também a média das observações futuras. Em outras palavras, ao invés de subtrair das observações passadas a contemporânea, eles propõem, subtrair a média das observações futuras em relação a contemporânea. “Estes são chamados de instrumentos de variáveis em nível”\n",
    "\n",
    "Os desvios ortogonais se mostraram uma boa opção quando o conjunto de dados apresenta muitos missings,  minimizando a perda de informações quando o painel é desbalanceado.\n"
   ]
  },
  {
   "cell_type": "markdown",
   "id": "d87637d2",
   "metadata": {},
   "source": [
    "**Blundell e Bond (1998)**   \n",
    "      \n",
    "Já Blundell e Bond (1998), observam que  se as variáveis em diferença são não correlacionadas com os efeitos fixos individuais (condição adicional), logo, mais instrumentos podem ser considerados, melhorando a eficiência do estimador de Arellano-Bond (1991), e fornecendo condições de momentos adicionais para a regressão em nível de Arellano-Bover (1995).\n",
    "\n",
    "Assim, Blundell e Bond (1998) propõem o _System-GMM_, que é formado pela equação em nível, a qual utiliza as defasagens como instrumentos, e a equação em diferença, que utiliza as diferenças defasadas como instrumentos.\n",
    "\n",
    "Cabe destacar que tanto, o _System-GMM_ como o _Diff-GMM_ podem ser estimados em _One-Step_ e _Two-Step_.\n",
    "\n",
    "One-Step: nesta abordagem, pressupõe-se que os termos de erros são independentes e identicamente distribuídos (iid) ao longo do tempo (homocedásticos) para cada cross-section.\n",
    "\n",
    "Two-Step: nesta abordagem, os resíduos obtidos da primeira etapa são empregados para construir uma estimativa consistente da matriz de variância covariância, possibilitando que os termos de erros sejam heteroscedásticos.\n",
    "\n",
    "Em geral, o estimador Two-Step é assintoticamente mais eficiente que o One-Step, porém em amostras pequenas os erros-padrão decorrentes podem ser subestimados. Para contornar esse problema, evitando que o estimador _Two-Step System GMM_ subestime as verdadeiras variâncias em amostra finita, é utilizado a correção proposta por Windmeijer (2005), tornando o estimador _Two-Step_ assintoticamente mais eficiente.\n"
   ]
  },
  {
   "cell_type": "markdown",
   "id": "f1f84765",
   "metadata": {},
   "source": [
    "## Quais as desvantagens do System-GMM?\n",
    "\n",
    "O System-GMM apresenta o problema de proliferação de muitos instrumentos internos que ocorre de forma quadrática na dimensão temporal, incorrendo em um _trade-off_ entre viés de _overfitting_  ou eficiência do estimador. Em outras palavras, o estimador produz mais instrumentos do que o ideal,  reduzindo os graus de liberdade, gerando um _trade-off_ entre viés e eficiência do estimador.\n",
    "\n",
    "É importante destacar que além dos instrumentos internos gerados, ainda é possível utilizar instrumentos exógenos externos para melhorar a eficiência do estimador."
   ]
  },
  {
   "cell_type": "markdown",
   "id": "ff932b30",
   "metadata": {},
   "source": [
    "## Como controlar a quantidade de  instrumentos utilizados?\n",
    "\n",
    "Para mitigar  o _trade-off_ entre viés _overfitting_ e a eficiência do estimador, existem três abordagens: Laglimits, Collapse e PCA."
   ]
  },
  {
   "cell_type": "markdown",
   "id": "a4a0b6a8",
   "metadata": {},
   "source": [
    "***Laglimits***      \n",
    "\n",
    "_Laglimits_ ou truncamento da matriz de instrumentos, consiste em limitar as defasagens que serão utilizadas para construção dos instrumentos. Basicamente o pesquisador define previamente a profundidade dos _lags_ que serão utilizados como instrumentos.\n",
    "\n",
    "***Collapse***        \n",
    "\n",
    "O _Collapse_ consiste no estreitamento horizontal da matriz de instrumentos, exemplo:\n",
    "\n",
    "$$\n",
    "\\left(\\begin{array}{cc} \n",
    "0         &        0 & 0 & ... & 0\\\\\n",
    "Y_{i1}  &       0 & 0 & ... & 0\\\\\n",
    "0         & Y_{i2} & 0 & ... & 0\\\\\n",
    ".         &           . &  . & ... & .\\\\\n",
    ".         &           . &  . & ... & .\\\\\n",
    "0        &          0 &  0& ... &Y_{iT}\\\\\n",
    "\\end{array}\\right)\n",
    "$$ \n",
    "\n",
    "Quando a matriz é colapsada, é feito um estreitamento horizontal deixando-a com uma única coluna, a qual incorpora a mesma expectativa anterior, produzindo uma única condição de momento.\n",
    "$$\n",
    "\\left(\\begin{array}{cc} \n",
    "0         \\\\\n",
    "Y_{i1}  \\\\\n",
    "0        \\\\\n",
    ".         \\\\\n",
    ".         \\\\\n",
    "Y_{iT}\\\\\n",
    "\\end{array}\\right)\n",
    "$$\n",
    "\n",
    "**Principal Components Analysis (PCA)**         \n",
    "\n",
    "A abordagem de extração de componentes principais consiste no processo de fatoração que minimiza a perda informacional da matriz de instrumentos.\n",
    "O Método PCA tem a vantagem de apresentar um menor viés, maior robustez, uma vez, que é uma técnica estatisticamente fundamentada e orientada por dados, reduzindo a arbitrariedade do pesquisador na delimitação dos instrumentos, gerando um número menor de instrumentos maximamente representativo.\n",
    "\n",
    "\n",
    "**Resumo**            \n",
    "\n",
    "Dentre os métodos para controlar a proliferação de instrumentos, o PCA se destaca, dado que ele reduz a  arbitrariedade  na delimitação dos instrumentos, contudo, ainda é possível especificar quantos componentes principais serão utilizados, o que é muito útil  quando o número de grupos é pequeno.\n"
   ]
  },
  {
   "cell_type": "markdown",
   "id": "ee66d220",
   "metadata": {},
   "source": [
    "## Quais são os principais testes do estimador Diff-GMM e System-GMM?              \n",
    "\n",
    "Quanto aos testes de especificação,  os principais são: teste de sobreidentificação de Sargan (1958) e Hansen (1982), Difference-in-Hansen, testes de autocorrelação de primeira ordem AR(1) e segunda ordem AR(2).\n",
    "\n",
    "#### Testes de sobreidentificação de Sargan (1958) e Hansen (1982)          \n",
    "\n",
    "Os testes de sobreidentificação têm como objetivo verificar a validade dos instrumentos internos gerados.  A hipótese nula  é que os instrumentos são não correlacionados com o termo de erro. Logo, a aceitação do H0 corrobora a validade dos instrumentos.\n",
    "\n",
    "• O teste de **Sargan (1958)** é apropriado quando se utiliza o procedimento de _One-Step_ (ou seja, quando, a matriz de variancia-covariancia é homocedástica).\n",
    "\n",
    "• O teste de **Hansen (1982)** é apropriado quando se utiliza o procedimento de _Two-Step_ (ou seja, quando, estimação com matriz de variancia-covariancia é heteroscedástica).\n",
    "\n",
    "Em suma: se utilizar erros robustos a heterocedasticidade _Two-Step_, deve-se relatar os coeficientes do teste de Hansen, caso contrário, deve relatar os coeficientes do teste de Sargan.\n",
    "\n",
    "#### Testes de autocorrelação de primeira e segunda ordem de Arellano Bond (1991)       \n",
    "\n",
    "Os testes de autocorrelação de primeira ordem AR (1) e segunda ordem AR (2) tem o objetivo de verificar a consistência do estimador. Para que o estimador seja consistente espera-se que exista correlação serial de primeira ordem e não exista  correção serial de segunda ordem. \n",
    "\n",
    "Os testes possuem a seguinte estrutura:\n",
    "AR (1)\n",
    "H0: Ausência de autocorrelação de primeira ordem.\n",
    "H1: Presença de autocorrelação de primeira ordem.\n",
    "\n",
    "AR (2)\n",
    "H0: Ausência de autocorrelação de segunda ordem.\n",
    "H1: Presença de autocorrelação de segunda ordem\n",
    "\n",
    "Em suma:  espera-se que rejeite H0 em AR (1) e aceite H0 em AR (2), para que o estimador seja consistente.\n",
    "\n",
    "#### Teste de Difference-in-Hansen       \n",
    "\n",
    "O teste de diferença de Hansen, tem o objetivo de verificar se os instrumentos adicionais são válidos.\n",
    "\n",
    "H0: os instrumentos adicionais são válidos;\n",
    "H1: os instrumentos adicionais não são válidos;"
   ]
  },
  {
   "cell_type": "markdown",
   "id": "59aec4ec",
   "metadata": {},
   "source": [
    "## Exemplo de interpretação dos testes.            \n",
    "\n",
    "***output OK***\n",
    "Considere a seguinte saída do _Two-Step System GMM_: \n",
    "\n",
    "A quantidade de grupos, ou seja, a quantidade de ids é 27 (Unidades da Federação); \n",
    "A quantidade  de instrumentos gerados foi 26. \n",
    "total de observações N=390.\n",
    "\n",
    "\n",
    "|Testes      | Coef  |P-values|\n",
    "|------------|-------|--------|\n",
    "|AR(1)       | -3.13 | 0.000  |\n",
    "|AR(2)       | 1.45  | 0.312  |\n",
    "|Sargan      | 63.96 | 0.000  |\n",
    "|J-Hansen    | 16.81 | 0.157  |\n",
    "|Diff-Hansen | 8.93  | 0.338  |\n",
    "\n",
    "\n",
    "**Comentando os testes:**          \n",
    "\n",
    "- Rejeitamos a hipótese nula de ausência de autocorrelação de primeira ordem AR (1) e não rejeitam a hipótese nula de ausência de autocorrelação de segunda ordem AR (2) indicando que os instrumentos são validos e não são correlacionados com o termo de erro.\n",
    "- O teste Sargan deve ser reportado somente para estimação _One-Step_, não sendo valido para a estimação _Two-Step_, pois podem indicar erros do tipo I e II.\n",
    "- O teste J-Hansen não rejeita a hipótese nula de que os instrumentos são validos (P-value >0,05).\n",
    "- O teste Difference-in-Hansen, não rejeita a hipótese nula que os instrumentos adicionais são válidos (P-value >0,05).\n",
    "- O número de instrumentos é menor que o número de grupos.\n",
    "\n",
    "Em suma: o output indica que os instrumentos são válidos e não são correlacionados com o termo de erro. Outra coisa que deve ser observado\n",
    "\n",
    "\n",
    "***output RUIM***             \n",
    "\n",
    "Considere a seguinte saída do _Two-Step System GMM_: \n",
    "\n",
    "A quantidade de grupos, ou seja, a quantidade de ids é 27 (Unidades da Federação); \n",
    "A quantidade de instrumentos gerados foi 156 (não foi controlado a proliferação dos instrumentos); \n",
    "total de observações N=390.\n",
    "\n",
    "|Testes      | Coef  |P-values|\n",
    "|------------|-------|--------|\n",
    "|AR(1)       | -3.13 | 0.000  |\n",
    "|AR(2)       | 1.45  | 0.312  |\n",
    "|Sargan      | 636.96| 0.999  |\n",
    "|J-Hansen    | 166.81| 1.000  |\n",
    "|Diff-Hansen | 81.93 | 0.998  |\n",
    "\n",
    "**Comentando os testes:**         \n",
    "\n",
    "- Rejeitamos a hipótese nula de ausência de autocorrelação de primeira ordem AR (1) e não rejeitam a hipótese nula de ausência de autocorrelação de segunda ordem AR (2) indicando que os instrumentos são validos e não são correlacionados com o termo de erro.\n",
    " \n",
    "- A princípio os resultados dos testes de Sargan e J-Hansen parecem estar melhores. No entanto, esses resultados implausivelmente bons, P-valores próximos 1.000, são frutos da proliferação de muitos instrumentos. Os testes de Sargan e Hansen são sensíveis a proliferação dos instrumentos, a ponto de gerar resultados enganosos (Anderson e Sørenson 1996 e Bowsher 2002). O próprio Sargan (1958) sem o auxílio de computadores determinou que o erro em seu teste é “proporcional ao número de variáveis instrumentais” (ROODMAN 2006, 2009ab). Portanto, devemos ter muito cuidado com P-valores muito altos, para isso siga a orientação de Labra e Torrecillas (2014) e Lillo e Torrecillas (2018), mantendo o número de instrumentos menor ou igual ao número de grupos, por meio dos métodos Laglimits, Collapse ou PCA."
   ]
  },
  {
   "cell_type": "markdown",
   "id": "856f256a",
   "metadata": {},
   "source": [
    "## Aplicando System GMM no Python/R       \n",
    "\n",
    "Como exemplo de aplicação, utilizarei os dados do artigo no qual sou coautor: [Economic Growth Channels From Human Capital: A Dynamic Panel Analysis for Brazil](https://www.scielo.br/j/rbe/a/KkYHXdsxP7nXzLRBCbY64Vq/?lang=en), neste estudo, avaliamos como o capital humano básico e superior afeta o crescimento econômico das unidades federativas do Brasil, no período de 1996 a 2015. Como fundamentação teórica utilizamos os modelos de crescimento econômico de  Solow (1956) aumentado e Nelson e Phelps (1966). Na estratégia empírica utilizamos _Two-Step System GMM_, com a correção dos erros padrão para amostra finita de Windmeijer (2005), e análise dos componentes principais PCA para controlar a proliferação dos instrumentos. O software utilizado foi o Stata.\n"
   ]
  },
  {
   "cell_type": "markdown",
   "id": "f8b876c1-a54f-479b-adc1-094727248bb2",
   "metadata": {},
   "source": [
    "# Package pyndynpd\n",
    "\n",
    "O package que utilizaremos é o *pyndynpd*, esse pacote é fortemente baseado já tradicional package xtabond2 do stata.                \n",
    "No pydynpd é possível aplicar o estimador de painel dinâmico Difference and System GMM (generalized method-of-moments)"
   ]
  },
  {
   "cell_type": "markdown",
   "id": "1e60c950-1cd2-4eaa-af4a-7eb9542b8735",
   "metadata": {},
   "source": [
    "O pacote pyndynpd é capaz de estimar modelos de painel dinâmicos que assumem o seguinte formato:\n",
    "\n",
    "$$y_{it}=\\sum_{j=1}^{p}\\alpha_{j}y_{i,t-j}+\\sum_{k=1}^{m}\\sum_{j=0}^{q_{k}}\\beta_{jk}r_{i,t-j}^{(k)}+\\boldsymbol{\\delta}\\boldsymbol{d_{i,t}}+\\boldsymbol{\\gamma}\\boldsymbol{s_{i,t}}+u_{i}+\\epsilon_{it}\\label{eq:typical_model}$$ No modelo acima, $y_{i,t-j}$ ($j=1,2,\\ldots,p$) denota um grupo de $p$ variáveis dependentes defasadas. $r_{i,t-j}^{(k)}$ representa um grupo de $m$ variáveis endógenas que não sejam defasadas $y$. $\\boldsymbol{d_{it}}$ é um vetor de variáveis predeterminadas que  potencialmente podem estar correlacionadas com erros passados, $\\boldsymbol{s_{it}}$ é um vetor de variáveis exógenas, e $u_{i}$ representa efeito fixo. Para fins de ilustração, vamos considerar uma forma básica de modelo de painel dinâmico:\n",
    "\n",
    "$$y_{it}=\\alpha_{1}y_{i,t-1}+\\delta d_{i,t}+u_{i}+\\epsilon_{it}\\label{eq:simple_model}$$"
   ]
  },
  {
   "cell_type": "markdown",
   "id": "ff73f98d-eba9-4854-9d4f-86cbe40ecb01",
   "metadata": {},
   "source": [
    "**Recursos suportados**:\n",
    "\n",
    "- Diference e System GMM;\n",
    "- Estimativas de one-step, two-step e iterativas;\n",
    "- Transformações de primeira diferença e desvio ortogonal direto;\n",
    "- Erros padrão robustos. Para GMM em two-step, é utilizado o cálculo sugerido por Windmeijer (2005).\n",
    "- Teste de sobreidentificação de Hansen\n",
    "- Teste de Arellano-Bond para autocorrelação\n",
    "- Dummies de tempo\n",
    "- laglimits para limitar a proliferação de instrumentos"
   ]
  },
  {
   "cell_type": "code",
   "execution_count": null,
   "id": "b366f6f0-cd0a-4903-ba9b-e264f423e159",
   "metadata": {},
   "outputs": [],
   "source": [
    "# Instalação \n",
    "#!pip install pyreadstat\n",
    "#!pip install pandas\n",
    "!pip install pydynpd"
   ]
  },
  {
   "cell_type": "code",
   "execution_count": 7,
   "id": "a06e3348-fcf5-473e-8190-3e6ca351f889",
   "metadata": {},
   "outputs": [],
   "source": [
    "# Importação \n",
    "import pyreadstat # Para importar os dados em formato dta\n",
    "import pandas as pd\n",
    "from pydynpd import regression "
   ]
  },
  {
   "cell_type": "code",
   "execution_count": 12,
   "id": "188f9251-47f4-4851-9346-7dd13e8e7c4a",
   "metadata": {},
   "outputs": [],
   "source": [
    "# Carregando os dados que estão em formato dta\n",
    "dtafile = 'BASE_CH.dta'\n",
    "df, meta = pyreadstat.read_dta(dtafile)"
   ]
  },
  {
   "cell_type": "markdown",
   "id": "580cb4c4",
   "metadata": {},
   "source": [
    "## Sintaxes dos packages xtabond2(Stata) e pyndynpd(Python)\n",
    "\n",
    "Para aqueles que já estão acostumados a utilizar o **xtabond2** do software stata, será muito fácil utilizar o **pyndynpd** do python, pois a sintaxe é muito semelhante.\n"
   ]
  },
  {
   "cell_type": "code",
   "execution_count": null,
   "id": "23fda89f",
   "metadata": {},
   "outputs": [],
   "source": [
    "# A sintaxe do xtabond2 é a seguinte.\n",
    "# xtabond2 Y L.Y X, gmm(L.Y, lag(2 2) collapse) iv(X) twostep robust pca components (10) orthogonal"
   ]
  },
  {
   "cell_type": "markdown",
   "id": "62ef84bf",
   "metadata": {},
   "source": [
    "Onde: \n",
    "* xtabond2  - é o nome da função que será executada.           \n",
    "* Y - representa a variável dependente         \n",
    "* L.Y - representa a primeira defasagem da variável dependente (Nota: é possível utilizar mais defasagens, (L2.Y), (L3.Y), porém, isso acarretará em mais testes de autocorrelação.            \n",
    "* gmm(L.Y) - no gmm( ) são especificadas as variáveis endógenas do modelo.         \n",
    "* iv(X) - no iv( ) são especificados as variáveis que serão utilizadas como instrumentos (Nota: também é possível utilizar instrumentos adicionais que não foram especificados na regressão.            \n",
    "* twostep - indica que será utilizado o estimador em duas etapas, conforme visto anteriormente.            \n",
    "* robust - especifica a correção dos erros padrão para amostra finita de Windmeijer (2005).           \n",
    "* lag(2 6) - especifica  quantas defasagens dos instrumentos serão utilizadas como instrumentos nas estimações. Neste exemplo serão utilizados duas defasagens como instrumentos.        \n",
    "* collapse - indica que a matriz dos instrumentos selecionados serão colapsados.         \n",
    "* pca - é a abordagem de extração de componentes principais. Neste exemplo estamos solicitando a utilização de apenas 10 componentes principais.         \n",
    "* orthogonal - indica se queremos utilizar os desvios ortogonais dos instrumentos (Nota: é utilizado quando os dados possuem muitos missings).        \n",
    "\n",
    "ver mais detalhes em: http://repec.org/bocode/x/xtabond2.html "
   ]
  },
  {
   "cell_type": "code",
   "execution_count": null,
   "id": "9f5dea7f-217c-4d10-a90b-ea5392d93817",
   "metadata": {},
   "outputs": [],
   "source": [
    "# A Sintaxe do pyndynpd é a seguinte.\n",
    "Reg_1 = regression.abond(Y L1.Y X | gmm(Y, 2:6) iv(X) | collapse, df, ['id', 'time'])\n",
    "\n",
    "#ou (leva aos mesmos resultados\n",
    "Reg_2 = regression.abond(Y L1.Y X | endo(Y, 2:6) pred(X) | collapse, df, ['id', 'time'])"
   ]
  },
  {
   "cell_type": "markdown",
   "id": "a2e2309e-f752-4b53-b5bb-5aea08b475c7",
   "metadata": {},
   "source": [
    "Onde: \n",
    "* gmm() ou endo() representam as variáveis endógenas\n",
    "* iv() ou pred() representam as variáveis estritamente exógenas ou predeterminadas\n",
    "* regression.abond  - é o nome da função que será executada.           \n",
    "* Y - representa a variável dependente         \n",
    "* L1.Y - representa a primeira defasagem da variável dependente (Nota: é possível utilizar mais defasagens, (L2.Y), (L3.Y) ou L(1:3).Y           \n",
    "* gmm(L.Y) - no gmm( ) são especificadas as variáveis endógenas do modelo.         \n",
    "* iv(X) - no iv( ) são especificados as variáveis que serão utilizadas como instrumentos.          \n",
    "* twostep - por padrão é utilizado o estimador de duas etapas para erros heterocedasticos.           \n",
    "* robust - por padrão é aplicada a correção dos erros padrão para amostra finita de Windmeijer (2005).           \n",
    "* 2:6 - especifica  quantas defasagens dos instrumentos serão utilizadas como instrumentos nas estimações. Neste exemplo serão utilizados duas defasagens como instrumentos.          \n",
    "* collapse - indica que a matriz dos instrumentos selecionados serão colapsados.         \n",
    "\n",
    "Ver mais detalhes em: https://github.com/dazhwu/pydynpd/blob/main/vignettes/Tutorial.ipynb"
   ]
  },
  {
   "cell_type": "markdown",
   "id": "20128bae-b1ab-44ea-b1ab-b1034d76d126",
   "metadata": {},
   "source": [
    "## Comparando os resultados do pyndynpd e xtabond2"
   ]
  },
  {
   "cell_type": "markdown",
   "id": "d6b85451-b0b0-484f-8d7b-08a0f7566f80",
   "metadata": {},
   "source": [
    "Exemplo 1: Aplicando Two-step System GMM, utilizando laglimits para controlar o número de instrumentos gerados.          \n",
    "\n",
    "Note que a equação é especificada de forma separada por motivos de espaço somente."
   ]
  },
  {
   "cell_type": "markdown",
   "id": "1f8ae292-68dd-4816-b974-7af1dbc59dc5",
   "metadata": {},
   "source": [
    "**Exemplo 1**"
   ]
  },
  {
   "cell_type": "code",
   "execution_count": 13,
   "id": "d72d6899-f5ea-4846-a182-36620bf9f752",
   "metadata": {},
   "outputs": [
    {
     "name": "stdout",
     "output_type": "stream",
     "text": [
      " Dynamic panel-data estimation, two-step system GMM\n",
      " Group variable: id                                Number of obs = 486      \n",
      " Time variable: Ano                                Min obs per group: 18    \n",
      " Number of instruments = 114                       Max obs per group: 18    \n",
      " Number of groups = 27                             Avg obs per group: 18.00 \n",
      "+----------+------------+---------------------+------------+-----------+-----+\n",
      "|  lnY_L   |   coef.    | Corrected Std. Err. |     z      |   P>|z|   |     |\n",
      "+----------+------------+---------------------+------------+-----------+-----+\n",
      "| L1.lnY_L | 0.6998107  |      0.0307648      | 22.7471469 | 0.0000000 | *** |\n",
      "|  Tx_K_L  | 0.2235690  |      0.0166539      | 13.4244192 | 0.0000000 | *** |\n",
      "|  Tx_HC   | 0.0599831  |      0.0335733      | 1.7866295  | 0.0739974 |     |\n",
      "|  ln_Gec  | 0.0170584  |      0.0078056      | 2.1854127  | 0.0288586 |  *  |\n",
      "|  popgr   | 0.3603384  |      0.2578083      | 1.3976991  | 0.1622035 |     |\n",
      "| D_Crisis | -0.0026567 |      0.0061672      | -0.4307788 | 0.6666292 |     |\n",
      "|   _con   | 1.8377930  |      0.1890126      | 9.7231255  | 0.0000000 | *** |\n",
      "+----------+------------+---------------------+------------+-----------+-----+\n",
      "Hansen test of overid. restrictions: chi(107) = 26.067 Prob > Chi2 = 1.000\n",
      "Arellano-Bond test for AR(1) in first differences: z = -3.58 Pr > z =0.000\n",
      "Arellano-Bond test for AR(2) in first differences: z = -0.74 Pr > z =0.457\n",
      "\n"
     ]
    }
   ],
   "source": [
    "# Definindo a formula\n",
    "formula='lnY_L L1.lnY_L Tx_K_L Tx_HC ln_Gec popgr D_Crisis Trend | gmm(lnY_L Tx_K_L Tx_HC, 2:2)  iv(ln_Gec popgr D_Crisis Trend n_prof_ah)'\n",
    "\n",
    "# Rodando a regressão\n",
    "TS_GMM_LAG = regression.abond(formula, df, ['id', 'Ano'])"
   ]
  },
  {
   "cell_type": "markdown",
   "id": "e326ea23-3eac-48d8-962d-5015a06cd3e3",
   "metadata": {},
   "source": [
    "Rodando a mesma especificação no xtabond2 do stata"
   ]
  },
  {
   "cell_type": "code",
   "execution_count": null,
   "id": "db579ecb-0359-4316-a5bf-9cf070bc6e1b",
   "metadata": {},
   "outputs": [],
   "source": [
    "# Excluir os missings\n",
    "drop if Tx_K_L==.\n",
    "\n",
    "# Rodar regressão\n",
    "xtabond2 lnY_L L.lnY_L Tx_K_L Tx_HC ln_Gec popgr D_Crisis Trend, gmm(L.lnY_L Tx_K_L Tx_HC, lag(2 2)) iv(ln_Gec popgr D_Crisis Trend n_prof_ah) twostep robust\n",
    "\n",
    "Dynamic panel-data estimation, two-step system GMM\n",
    "------------------------------------------------------------------------------\n",
    "Group variable: id                              Number of obs      =       486\n",
    "Time variable : Ano                             Number of groups   =        27\n",
    "Number of instruments = 106                     Obs per group: min =        18\n",
    "Wald chi2(7)  = 783771.72                                      avg =     18.00\n",
    "Prob > chi2   =     0.000                                      max =        18\n",
    "------------------------------------------------------------------------------\n",
    "             |              Corrected\n",
    "       lnY_L | Coefficient  std. err.      z    P>|z|     [95% conf. interval]\n",
    "-------------+----------------------------------------------------------------\n",
    "       lnY_L |\n",
    "         L1. |   .6073052   .0276099    22.00   0.000     .5531909    .6614195\n",
    "             |\n",
    "      Tx_K_L |   .3433192   .0298501    11.50   0.000     .2848141    .4018243\n",
    "       Tx_HC |   .0614545   .0290218     2.12   0.034     .0045728    .1183362\n",
    "      ln_Gec |   .0123487    .007603     1.62   0.104    -.0025529    .0272502\n",
    "       popgr |   .2321539   .2168684     1.07   0.284    -.1929002    .6572081\n",
    "    D_Crisis |  -.0197983    .005148    -3.85   0.000    -.0298882   -.0097084\n",
    "       Trend |  -.0050064   .0008494    -5.89   0.000    -.0066711   -.0033416\n",
    "       _cons |   2.947251   .3182422     9.26   0.000     2.323508    3.570994\n",
    "------------------------------------------------------------------------------\n",
    "Instruments for first differences equation\n",
    "  Standard\n",
    "    D.(ln_Gec popgr D_Crisis Trend n_prof_ah)\n",
    "  GMM-type (missing=0, separate instruments for each period unless collapsed)\n",
    "    L2.(L.lnY_L Tx_K_L Tx_HC)\n",
    "Instruments for levels equation\n",
    "  Standard\n",
    "    ln_Gec popgr D_Crisis Trend n_prof_ah\n",
    "    _cons\n",
    "  GMM-type (missing=0, separate instruments for each period unless collapsed)\n",
    "    DL.(L.lnY_L Tx_K_L Tx_HC)\n",
    "------------------------------------------------------------------------------\n",
    "Arellano-Bond test for AR(1) in first differences: z =  -3.57  Pr > z =  0.000\n",
    "Arellano-Bond test for AR(2) in first differences: z =  -0.71  Pr > z =  0.475\n",
    "------------------------------------------------------------------------------\n",
    "Sargan test of overid. restrictions: chi2(98)   = 287.28  Prob > chi2 =  0.000\n",
    "  (Not robust, but not weakened by many instruments.)\n",
    "Hansen test of overid. restrictions: chi2(98)   =  26.21  Prob > chi2 =  1.000\n",
    "  (Robust, but weakened by many instruments.)\n",
    "\n",
    "Difference-in-Hansen tests of exogeneity of instrument subsets:\n",
    "  GMM instruments for levels\n",
    "    Hansen test excluding group:     chi2(48)   =  26.21  Prob > chi2 =  0.996\n",
    "    Difference (null H = exogenous): chi2(50)   =   0.00  Prob > chi2 =  1.000\n",
    "  iv(ln_Gec popgr D_Crisis Trend n_prof_ah)\n",
    "    Hansen test excluding group:     chi2(93)   =  25.90  Prob > chi2 =  1.000\n",
    "    Difference (null H = exogenous): chi2(5)    =   0.32  Prob > chi2 =  0.997"
   ]
  },
  {
   "cell_type": "markdown",
   "id": "e0ae0401-321b-4e52-8ef9-01decd18d03a",
   "metadata": {},
   "source": [
    "**Observações**             \n",
    "Comparando os resultados, podemos notar que os coeficientes estimados e os valores dos testes são muito próximos, mas não são idênticos."
   ]
  },
  {
   "cell_type": "markdown",
   "id": "7145a6a4-bc1d-40eb-ac1c-205bc3bcce43",
   "metadata": {},
   "source": [
    "**Exemplo 2**"
   ]
  },
  {
   "cell_type": "code",
   "execution_count": 17,
   "id": "47b09d3d-2739-4c11-bca6-d258742179e9",
   "metadata": {},
   "outputs": [
    {
     "name": "stdout",
     "output_type": "stream",
     "text": [
      " Dynamic panel-data estimation, two-step system GMM\n",
      " Group variable: id                               Number of obs = 486      \n",
      " Time variable: Ano                               Min obs per group: 18    \n",
      " Number of instruments = 12                       Max obs per group: 18    \n",
      " Number of groups = 27                            Avg obs per group: 18.00 \n",
      "+----------+------------+---------------------+------------+-----------+-----+\n",
      "|  lnY_L   |   coef.    | Corrected Std. Err. |     z      |   P>|z|   |     |\n",
      "+----------+------------+---------------------+------------+-----------+-----+\n",
      "| L1.lnY_L | 0.7827259  |      0.0476165      | 16.4381308 | 0.0000000 | *** |\n",
      "|  Tx_K_L  | 0.2523872  |      0.0472650      | 5.3398288  | 0.0000001 | *** |\n",
      "|  Tx_HC   | 0.0030381  |      0.1494045      | 0.0203346  | 0.9837765 |     |\n",
      "|  ln_Gec  | -0.0034701 |      0.0100146      | -0.3465014 | 0.7289659 |     |\n",
      "|  popgr   | 0.2771468  |      0.3750859      | 0.7388889  | 0.4599745 |     |\n",
      "| D_Crisis | 0.0011940  |      0.0147207      | 0.0811115  | 0.9353533 |     |\n",
      "|  Trend   | -0.0025639 |      0.0014267      | -1.7970871 | 0.0723218 |     |\n",
      "|   _con   | 2.1743941  |      0.5147000      | 4.2245855  | 0.0000239 | *** |\n",
      "+----------+------------+---------------------+------------+-----------+-----+\n",
      "Hansen test of overid. restrictions: chi(4) = 14.047 Prob > Chi2 = 0.007\n",
      "Arellano-Bond test for AR(1) in first differences: z = -3.25 Pr > z =0.001\n",
      "Arellano-Bond test for AR(2) in first differences: z = -0.40 Pr > z =0.692\n",
      "\n"
     ]
    }
   ],
   "source": [
    "# Definindo a formula\n",
    "formula='lnY_L L1.lnY_L Tx_K_L Tx_HC ln_Gec popgr D_Crisis Trend | gmm(lnY_L Tx_K_L Tx_HC, 2:2)  iv(ln_Gec popgr D_Crisis Trend n_prof_ah) | collapse'\n",
    "\n",
    "# Rodando a regressão\n",
    "TS_GMM_LAG_COLLAPSE = regression.abond(formula, df, ['id', 'Ano'])"
   ]
  },
  {
   "cell_type": "code",
   "execution_count": null,
   "id": "fcb2c3b7-5cb4-4977-b69b-402b5024d6fe",
   "metadata": {},
   "outputs": [],
   "source": [
    "# Rodando a regressão\n",
    "xtabond2 lnY_L L.lnY_L Tx_K_L Tx_HC ln_Gec popgr D_Crisis Trend, gmm(L.lnY_L Tx_K_L Tx_HC, lag(2 2) collapse) iv (ln_Gec popgr D_Crisis Trend n_prof_ah) twostep robust \n",
    "\n",
    "Dynamic panel-data estimation, two-step system GMM\n",
    "------------------------------------------------------------------------------\n",
    "Group variable: id                              Number of obs      =       486\n",
    "Time variable : Ano                             Number of groups   =        27\n",
    "Number of instruments = 12                      Obs per group: min =        18\n",
    "Wald chi2(7)  =  1.58e+06                                      avg =     18.00\n",
    "Prob > chi2   =     0.000                                      max =        18\n",
    "------------------------------------------------------------------------------\n",
    "             |              Corrected\n",
    "       lnY_L | Coefficient  std. err.      z    P>|z|     [95% conf. interval]\n",
    "-------------+----------------------------------------------------------------\n",
    "       lnY_L |\n",
    "         L1. |   .8083821   .0496389    16.29   0.000     .7110916    .9056726\n",
    "             |\n",
    "      Tx_K_L |   .2003751   .0467111     4.29   0.000      .108823    .2919271\n",
    "       Tx_HC |    .126828    .094738     1.34   0.181     -.058855    .3125111\n",
    "      ln_Gec |   -.002454    .009949    -0.25   0.805    -.0219536    .0170456\n",
    "       popgr |   .3447951   .4804245     0.72   0.473    -.5968196     1.28641\n",
    "    D_Crisis |    -.00985   .0109577    -0.90   0.369    -.0313266    .0116267\n",
    "       Trend |   -.002313   .0014009    -1.65   0.099    -.0050588    .0004327\n",
    "       _cons |   1.802098   .4801112     3.75   0.000     .8610975    2.743099\n",
    "------------------------------------------------------------------------------\n",
    "Instruments for first differences equation\n",
    "  Standard\n",
    "    D.(ln_Gec popgr D_Crisis Trend n_prof_ah)\n",
    "  GMM-type (missing=0, separate instruments for each period unless collapsed)\n",
    "    L2.(L.lnY_L Tx_K_L Tx_HC) collapsed\n",
    "Instruments for levels equation\n",
    "  Standard\n",
    "    ln_Gec popgr D_Crisis Trend n_prof_ah\n",
    "    _cons\n",
    "  GMM-type (missing=0, separate instruments for each period unless collapsed)\n",
    "    DL.(L.lnY_L Tx_K_L Tx_HC) collapsed\n",
    "------------------------------------------------------------------------------\n",
    "Arellano-Bond test for AR(1) in first differences: z =  -3.61  Pr > z =  0.000\n",
    "Arellano-Bond test for AR(2) in first differences: z =  -0.98  Pr > z =  0.328\n",
    "------------------------------------------------------------------------------\n",
    "Sargan test of overid. restrictions: chi2(4)    =  23.67  Prob > chi2 =  0.000\n",
    "  (Not robust, but not weakened by many instruments.)\n",
    "Hansen test of overid. restrictions: chi2(4)    =  15.78  Prob > chi2 =  0.003\n",
    "  (Robust, but weakened by many instruments.)\n",
    "\n",
    "Difference-in-Hansen tests of exogeneity of instrument subsets:\n",
    "  GMM instruments for levels\n",
    "    Hansen test excluding group:     chi2(1)    =   6.40  Prob > chi2 =  0.011\n",
    "    Difference (null H = exogenous): chi2(3)    =   9.38  Prob > chi2 =  0.025"
   ]
  },
  {
   "cell_type": "markdown",
   "id": "d44a723d-4c0d-462a-a7ca-484b60ff10ab",
   "metadata": {},
   "source": [
    "## Utilizando pyndynpd no R-Studio\n",
    "\n",
    "Mais informações em:   \n",
    "* https://github.com/dazhwu/pydynpd                    \n",
    "* https://www.rstudio.com/blog/rstudio-v1-4-preview-python-support/"
   ]
  },
  {
   "cell_type": "code",
   "execution_count": null,
   "id": "4e0658bc-2abf-4474-9812-fc5676890430",
   "metadata": {},
   "outputs": [],
   "source": [
    "# Primeiro, é necessário instalar o Python no computador; em seguida, instale o package pydynpd.\n",
    "! pip install pydynpd\n",
    "\n",
    "# Segundo, no ambiente R instalar package reticulate\n",
    "install.packages(\"reticulate\")\n",
    "\n",
    "# Carregar pacote\n",
    "library(reticulate) "
   ]
  },
  {
   "cell_type": "code",
   "execution_count": null,
   "id": "4016f5f7-ed3b-4ae0-be38-a9dda4ef2b98",
   "metadata": {},
   "outputs": [],
   "source": [
    "# Importação \n",
    "import pyreadstat # Para importar os dados em formato dta\n",
    "import pandas as pd\n",
    "from pydynpd import regression \n",
    "\n",
    "# Carregando os dados que estão em formato dta\n",
    "dtafile = 'BASE_CH.dta'\n",
    "df, meta = pyreadstat.read_dta(dtafile)\n",
    "\n",
    "# Definindo a formula\n",
    "formula='lnY_L L1.lnY_L Tx_K_L Tx_HC ln_Gec popgr D_Crisis Trend | gmm(lnY_L Tx_K_L Tx_HC, 2:2)  iv(ln_Gec popgr D_Crisis Trend n_prof_ah)'\n",
    "\n",
    "# Rodando a regressão\n",
    "TS_GMM_LAG = regression.abond(formula, df, ['id', 'Ano'])"
   ]
  },
  {
   "cell_type": "markdown",
   "id": "ce0480bc-900b-41f0-ad48-15a6b8f4041e",
   "metadata": {},
   "source": [
    "## Conclusão\n",
    "\n",
    "Acredito que não seja novidade para os pesquisadores que aplicam System GMM, que os pacotes do stata, principalmente o xtabond2 são os mais utilizados, devido a facilidade de aplicação. Dentro deste contexto o package pyndynpd é uma excelente notícia para quem utiliza softwares livres como Python e R. Ademais, o fato de o pyndynpd trazer uma sintaxe muito semelhante ao xtabond2, reduz o custo de aprendizado, facilitando sua adoção por utilizadores de stata que buscam alternativas livres que apresentem alto desempenho.\n",
    "\n",
    "\n",
    "Por fim, até o momento, não foram adicionados os testes de sargan e Difference-in-Hansen que são reportados pelo xtabond2. No mesmo sentido, ainda não foi adicionada a função para utilizar a técnica de Análise de Componentes Principais (PCA) para controlar a proliferação de instrumentos. No entanto, as funções básicas para aplicação do system-GMM e diff-GMM estão funcionais, e a expectativa para os próximos meses é que esses recursos sejam adicionados, visto que, o package tem apenas 4 meses desde sua publicação.\n"
   ]
  },
  {
   "cell_type": "markdown",
   "id": "5efd8dec",
   "metadata": {},
   "source": [
    "## Referências \n",
    "\n",
    "Anderson, T. G., and B. E. Sørenson. 1996. GMM estimation of a stochastic volatility model: A Monte Carlo study. Journal of Business & Economic Statistics 328–352. [link](https://uh.edu/~bsorense/AndersenSorensenGMMJBES1996.pdf)\n",
    "\n",
    "ANDERSON, Theodore Wilbur; HSIAO, Cheng. Estimation of dynamic models with error components. **Journal of the American statistical Association**, v. 76, n. 375, p. 598-606, 1981. [link](https://authors.library.caltech.edu/82241/1/sswp336.pdf)\n",
    "\n",
    "Arellano, M., & Bond, S. (1991). Some tests of specification for panel data: Monte Carlo  \n",
    "evidence and an application to employment equations. The Review of Economic Studies,  \n",
    "[link](http://dx.doi.org/10.2307/2297968)  \n",
    "\n",
    "Arellano, M., & Bover, O. (1995). Another look at the instrumental variable estimation of  \n",
    "error-components model. Journal of Econometrics, 68(1), 29–52.  [link](http://dx.doi.org/10.1016/0304-4076(94)01642-D)\n",
    "\n",
    "Blundell, R., & Bond, S. (1998). Initial conditions and moment restrictions in dynamic panel  \n",
    "data models. Journal of Econometrics, 87(1), 115–143.  [link](http://dx.doi.org/10.1016/S0304-4076(98)00009-8)\n",
    "\n",
    "Hansen, L. P. (1982). Large sample properties of generalized method of moments estimators.  \n",
    "Econometrica, 50(4), 1029–1054. [link](http://dx.doi.org/10.2307/1912775)\n",
    "\n",
    "Labra, R., & Torrecillas, C. (2014). Guía CERO para datos de panel: Un enfoque práctico  \n",
    "(Working Paper No. 2014/16). Madrid: UAM–Accenture. [link](https://www.catedrauam-innova.com/documents/Working%20papers/WP2014_16_Guia%20CERO%20para%20datos%20de%20panel_Un%20enfoque%20practico.pdf)\n",
    "\n",
    "Lillo, R. L., & Torrecillas, C. (2018). Estimating dynamic panel data: A practical approach to  \n",
    "perform long panels. Revista Colombiana de Estadística, 41(1), 31–52.  [link ](http://dx.doi.org/10.15446/rce.v41n1.61885)\n",
    "\n",
    "Nelson, R. R., & Phelps, E. S. (1966). Investment in humans, technological diffusion, and  \n",
    "economic growth. The American Economic Review, 56(1/2), 69–75.  [link](http://dx.doi.org/https://www.jstor.org/stable/1821269)\n",
    "\n",
    "Roodman, D. (2009a). How to do Xtabond2: An introduction to Difference and System GMM  \n",
    "in Stata (No. 9). [link](http://dx.doi.org/10.1177/1536867X0900900106 )\n",
    "\n",
    "Roodman, D. (2009b). A note on the theme of too many instruments. Oxford Bulletin of  \n",
    "Economics and Statistics, 71(1), 135–158. [link](https://onlinelibrary.wiley.com/doi/pdf/10.1111/j.1468-0084.2008.00542.x)\n",
    "\n",
    "Sargan, J. D. (1958). The estimation of economic relationships using instrumental variables.  \n",
    "Econometrica, 26(3), 393–415. [link](http://dx.doi.org/10.2307/1907619) \n",
    "\n",
    "SOLOW, Robert M. A contribution to the theory of economic growth. **The quarterly journal of economics**, v. 70, n. 1, p. 65-94, 1956.[link](\n",
    "http://piketty.pse.ens.fr/files/oldfichiers051211/enseig/ecoineg/articl/Solow1956.pdf)\n",
    "\n",
    "UHR, Daniel de Abreu Pereira et al. Economic Growth Channels From Human Capital: A Dynamic Panel Analysis for Brazil. **Revista Brasileira de Economia**, v. 74, p. 95-118, 2020. [link](https://www.scielo.br/j/rbe/a/KkYHXdsxP7nXzLRBCbY64Vq/?lang=en)\n",
    "\n",
    "Windmeijer, F. (2005). A finite sample correction for the variance of linear efficient two-step  \n",
    "GMM estimators. Journal of Econometrics, 126(1), 25–51.  \n",
    "[link](http://dx.doi.org/10.1016/j.jeconom.2004.02.005)\n"
   ]
  }
 ],
 "metadata": {
  "kernelspec": {
   "display_name": "Python 3",
   "language": "python",
   "name": "python3"
  },
  "language_info": {
   "codemirror_mode": {
    "name": "ipython",
    "version": 3
   },
   "file_extension": ".py",
   "mimetype": "text/x-python",
   "name": "python",
   "nbconvert_exporter": "python",
   "pygments_lexer": "ipython3",
   "version": "3.8.8"
  }
 },
 "nbformat": 4,
 "nbformat_minor": 5
}
